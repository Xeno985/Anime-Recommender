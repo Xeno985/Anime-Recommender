{
 "cells": [
  {
   "cell_type": "markdown",
   "id": "f47164e6",
   "metadata": {
    "papermill": {
     "duration": 0.019581,
     "end_time": "2023-07-29T07:34:39.176142",
     "exception": false,
     "start_time": "2023-07-29T07:34:39.156561",
     "status": "completed"
    },
    "tags": []
   },
   "source": [
    "# Notebook 1: Exploratory Data Analysis and Dataset Preparation\n",
    "\n",
    "Welcome to Notebook 1 of this recommendation system project!\n",
    "\n",
    "In this notebook, we will explore the anime datasets and perform data analysis.\n",
    "\n",
    "Our goal in this notebook is to gain insights into the data, understand the distribution of anime titles, genres, user ratings, and other important features. We will visualize the data using various plots and charts to identify patterns and trends.\n",
    "\n",
    "Once we have completed the data exploration, we will move forward to Notebook 2: Model Training.\n",
    "\n",
    "[Click here to access Notebook 2: Model Training](https://www.kaggle.com/code/dbdmobile/anime-recommendation-2)\n",
    "\n",
    "Note: It is recommended to run this notebook first to understand the data and perform necessary data preprocessing before proceeding to the model training phase.\n",
    "\n",
    "Let's get started with the data exploration!"
   ]
  },
  {
   "cell_type": "markdown",
   "id": "063da388",
   "metadata": {
    "papermill": {
     "duration": 0.019241,
     "end_time": "2023-07-29T07:34:39.214645",
     "exception": false,
     "start_time": "2023-07-29T07:34:39.195404",
     "status": "completed"
    },
    "tags": []
   },
   "source": [
    "# Importing libraries"
   ]
  },
  {
   "cell_type": "code",
   "execution_count": null,
   "id": "63b6f52c",
   "metadata": {
    "execution": {
     "iopub.execute_input": "2023-07-29T07:34:39.254199Z",
     "iopub.status.busy": "2023-07-29T07:34:39.253257Z",
     "iopub.status.idle": "2023-07-29T07:34:55.169486Z",
     "shell.execute_reply": "2023-07-29T07:34:55.167879Z"
    },
    "papermill": {
     "duration": 15.939234,
     "end_time": "2023-07-29T07:34:55.172365",
     "exception": false,
     "start_time": "2023-07-29T07:34:39.233131",
     "status": "completed"
    },
    "tags": []
   },
   "outputs": [],
   "source": [
    "!pip install plotly"
   ]
  },
  {
   "cell_type": "code",
   "execution_count": null,
   "id": "b7e6f1c8",
   "metadata": {
    "execution": {
     "iopub.execute_input": "2023-07-29T07:34:55.211706Z",
     "iopub.status.busy": "2023-07-29T07:34:55.211276Z",
     "iopub.status.idle": "2023-07-29T07:35:09.229561Z",
     "shell.execute_reply": "2023-07-29T07:35:09.228101Z"
    },
    "papermill": {
     "duration": 14.041561,
     "end_time": "2023-07-29T07:35:09.232610",
     "exception": false,
     "start_time": "2023-07-29T07:34:55.191049",
     "status": "completed"
    },
    "tags": []
   },
   "outputs": [],
   "source": [
    "!pip install wordcloud"
   ]
  },
  {
   "cell_type": "code",
   "execution_count": null,
   "id": "7eefe5c9",
   "metadata": {
    "execution": {
     "iopub.execute_input": "2023-07-29T07:35:09.273884Z",
     "iopub.status.busy": "2023-07-29T07:35:09.273415Z",
     "iopub.status.idle": "2023-07-29T07:35:27.105132Z",
     "shell.execute_reply": "2023-07-29T07:35:27.103568Z"
    },
    "papermill": {
     "duration": 17.856904,
     "end_time": "2023-07-29T07:35:27.108422",
     "exception": false,
     "start_time": "2023-07-29T07:35:09.251518",
     "status": "completed"
    },
    "tags": []
   },
   "outputs": [],
   "source": [
    "!pip install langdetect"
   ]
  },
  {
   "cell_type": "code",
   "execution_count": null,
   "id": "b23aa283",
   "metadata": {
    "execution": {
     "iopub.execute_input": "2023-07-29T07:35:27.151622Z",
     "iopub.status.busy": "2023-07-29T07:35:27.151009Z",
     "iopub.status.idle": "2023-07-29T07:35:30.885361Z",
     "shell.execute_reply": "2023-07-29T07:35:30.884177Z"
    },
    "papermill": {
     "duration": 3.759691,
     "end_time": "2023-07-29T07:35:30.888495",
     "exception": false,
     "start_time": "2023-07-29T07:35:27.128804",
     "status": "completed"
    },
    "tags": []
   },
   "outputs": [],
   "source": [
    "# Reading Dataset\n",
    "import numpy as np\n",
    "import pandas as pd\n",
    "# Visualization\n",
    "import plotly.express as px\n",
    "import plotly.graph_objects as go  # for 3D plot visualization\n",
    "import plotly.figure_factory as ff\n",
    "from plotly.offline import init_notebook_mode, iplot\n",
    "init_notebook_mode(connected=True)\n",
    "\n",
    "from wordcloud import WordCloud\n",
    "from langdetect import detect\n",
    "from datetime import datetime"
   ]
  },
  {
   "cell_type": "markdown",
   "id": "7ed6014d",
   "metadata": {
    "papermill": {
     "duration": 0.020062,
     "end_time": "2023-07-29T07:35:30.929234",
     "exception": false,
     "start_time": "2023-07-29T07:35:30.909172",
     "status": "completed"
    },
    "tags": []
   },
   "source": [
    "# Reading our Dataset"
   ]
  },
  {
   "cell_type": "code",
   "execution_count": 5,
   "id": "2dd359fc",
   "metadata": {
    "execution": {
     "iopub.execute_input": "2023-07-29T07:35:30.974866Z",
     "iopub.status.busy": "2023-07-29T07:35:30.974420Z",
     "iopub.status.idle": "2023-07-29T07:35:30.980547Z",
     "shell.execute_reply": "2023-07-29T07:35:30.979130Z"
    },
    "papermill": {
     "duration": 0.033174,
     "end_time": "2023-07-29T07:35:30.983125",
     "exception": false,
     "start_time": "2023-07-29T07:35:30.949951",
     "status": "completed"
    },
    "tags": []
   },
   "outputs": [],
   "source": [
    "# Setting column display to 50\n",
    "pd.set_option('display.max_columns', 50)"
   ]
  },
  {
   "cell_type": "code",
   "execution_count": null,
   "id": "b3462583",
   "metadata": {
    "execution": {
     "iopub.execute_input": "2023-07-29T07:35:31.028538Z",
     "iopub.status.busy": "2023-07-29T07:35:31.026995Z",
     "iopub.status.idle": "2023-07-29T07:35:31.802101Z",
     "shell.execute_reply": "2023-07-29T07:35:31.800876Z"
    },
    "papermill": {
     "duration": 0.800665,
     "end_time": "2023-07-29T07:35:31.805323",
     "exception": false,
     "start_time": "2023-07-29T07:35:31.004658",
     "status": "completed"
    },
    "tags": []
   },
   "outputs": [],
   "source": [
    "# Importing anime details dataframe\n",
    "df_anime=pd.read_csv('/kaggle/input/myanimelist-dataset/anime-dataset-2023.csv')\n",
    "print(\"Shape of the Dataset:\",df_anime.shape)\n",
    "df_anime.head(3)"
   ]
  },
  {
   "cell_type": "code",
   "execution_count": null,
   "id": "744b965c",
   "metadata": {
    "execution": {
     "iopub.execute_input": "2023-07-29T07:35:31.851124Z",
     "iopub.status.busy": "2023-07-29T07:35:31.850689Z",
     "iopub.status.idle": "2023-07-29T07:35:35.194888Z",
     "shell.execute_reply": "2023-07-29T07:35:35.193019Z"
    },
    "papermill": {
     "duration": 3.369861,
     "end_time": "2023-07-29T07:35:35.198134",
     "exception": false,
     "start_time": "2023-07-29T07:35:31.828273",
     "status": "completed"
    },
    "tags": []
   },
   "outputs": [],
   "source": [
    "# Importing user details dataframe\n",
    "df_user=pd.read_csv('/kaggle/input/myanimelist-dataset/users-details-2023.csv')\n",
    "print(\"Shape of the Dataset:\",df_user.shape)\n",
    "df_user.head()"
   ]
  },
  {
   "cell_type": "code",
   "execution_count": null,
   "id": "7eeb171d",
   "metadata": {
    "execution": {
     "iopub.execute_input": "2023-07-29T07:35:35.244882Z",
     "iopub.status.busy": "2023-07-29T07:35:35.244424Z",
     "iopub.status.idle": "2023-07-29T07:36:14.484767Z",
     "shell.execute_reply": "2023-07-29T07:36:14.483549Z"
    },
    "papermill": {
     "duration": 39.288709,
     "end_time": "2023-07-29T07:36:14.509083",
     "exception": false,
     "start_time": "2023-07-29T07:35:35.220374",
     "status": "completed"
    },
    "tags": []
   },
   "outputs": [],
   "source": [
    "# Importing user score dataframe\n",
    "df_score=pd.read_csv('/kaggle/input/myanimelist-dataset/users-score-2023.csv')\n",
    "print(\"Shape of the dataset:\",df_score.shape)\n",
    "df_score.head()"
   ]
  },
  {
   "cell_type": "markdown",
   "id": "1ce6ce52",
   "metadata": {
    "papermill": {
     "duration": 0.022245,
     "end_time": "2023-07-29T07:36:14.554134",
     "exception": false,
     "start_time": "2023-07-29T07:36:14.531889",
     "status": "completed"
    },
    "tags": []
   },
   "source": [
    "# Explorartory Data Analysis"
   ]
  },
  {
   "cell_type": "markdown",
   "id": "52e65e05",
   "metadata": {
    "papermill": {
     "duration": 0.022163,
     "end_time": "2023-07-29T07:36:14.598122",
     "exception": false,
     "start_time": "2023-07-29T07:36:14.575959",
     "status": "completed"
    },
    "tags": []
   },
   "source": [
    "## Data Exploration"
   ]
  },
  {
   "cell_type": "markdown",
   "id": "d82eba05",
   "metadata": {
    "papermill": {
     "duration": 0.021179,
     "end_time": "2023-07-29T07:36:14.641319",
     "exception": false,
     "start_time": "2023-07-29T07:36:14.620140",
     "status": "completed"
    },
    "tags": []
   },
   "source": [
    "#### Checking each dataframes\n",
    "In order to gain a better understanding of the data, it is important to examine each DataFrame individually. This includes assessing its structure and identifying any missing values. We will begin this process by using the info() method, which provides a comprehensive overview of the DataFrame's columns and structure."
   ]
  },
  {
   "cell_type": "code",
   "execution_count": null,
   "id": "1cd3776c",
   "metadata": {
    "execution": {
     "iopub.execute_input": "2023-07-29T07:36:14.686777Z",
     "iopub.status.busy": "2023-07-29T07:36:14.686313Z",
     "iopub.status.idle": "2023-07-29T07:36:14.872528Z",
     "shell.execute_reply": "2023-07-29T07:36:14.870211Z"
    },
    "papermill": {
     "duration": 0.212686,
     "end_time": "2023-07-29T07:36:14.875564",
     "exception": false,
     "start_time": "2023-07-29T07:36:14.662878",
     "status": "completed"
    },
    "tags": []
   },
   "outputs": [],
   "source": [
    "df_anime.info()"
   ]
  },
  {
   "cell_type": "code",
   "execution_count": null,
   "id": "25506f79",
   "metadata": {
    "execution": {
     "iopub.execute_input": "2023-07-29T07:36:14.923269Z",
     "iopub.status.busy": "2023-07-29T07:36:14.922507Z",
     "iopub.status.idle": "2023-07-29T07:36:14.937633Z",
     "shell.execute_reply": "2023-07-29T07:36:14.936344Z"
    },
    "papermill": {
     "duration": 0.041082,
     "end_time": "2023-07-29T07:36:14.940281",
     "exception": false,
     "start_time": "2023-07-29T07:36:14.899199",
     "status": "completed"
    },
    "tags": []
   },
   "outputs": [],
   "source": [
    "# Preprocessing Score column\n",
    "df_anime['Score'].value_counts()"
   ]
  },
  {
   "cell_type": "code",
   "execution_count": 11,
   "id": "efb04025",
   "metadata": {
    "execution": {
     "iopub.execute_input": "2023-07-29T07:36:14.991429Z",
     "iopub.status.busy": "2023-07-29T07:36:14.991023Z",
     "iopub.status.idle": "2023-07-29T07:36:15.009611Z",
     "shell.execute_reply": "2023-07-29T07:36:15.008258Z"
    },
    "papermill": {
     "duration": 0.04594,
     "end_time": "2023-07-29T07:36:15.012651",
     "exception": false,
     "start_time": "2023-07-29T07:36:14.966711",
     "status": "completed"
    },
    "tags": []
   },
   "outputs": [],
   "source": [
    "scores = df_anime['Score'][df_anime['Score'] != 'UNKNOWN']\n",
    "scores = scores.astype('float')\n",
    "score_mean= round(scores.mean() , 2)"
   ]
  },
  {
   "cell_type": "code",
   "execution_count": 12,
   "id": "e4cbf809",
   "metadata": {
    "execution": {
     "iopub.execute_input": "2023-07-29T07:36:15.058921Z",
     "iopub.status.busy": "2023-07-29T07:36:15.058510Z",
     "iopub.status.idle": "2023-07-29T07:36:15.075945Z",
     "shell.execute_reply": "2023-07-29T07:36:15.074548Z"
    },
    "papermill": {
     "duration": 0.043955,
     "end_time": "2023-07-29T07:36:15.078767",
     "exception": false,
     "start_time": "2023-07-29T07:36:15.034812",
     "status": "completed"
    },
    "tags": []
   },
   "outputs": [],
   "source": [
    "df_anime['Score'] = df_anime['Score'].replace('UNKNOWN', score_mean)\n",
    "df_anime['Score'] = df_anime['Score'].astype('float64')"
   ]
  },
  {
   "cell_type": "code",
   "execution_count": null,
   "id": "db8b2c38",
   "metadata": {
    "execution": {
     "iopub.execute_input": "2023-07-29T07:36:15.127023Z",
     "iopub.status.busy": "2023-07-29T07:36:15.125665Z",
     "iopub.status.idle": "2023-07-29T07:36:15.150051Z",
     "shell.execute_reply": "2023-07-29T07:36:15.148699Z"
    },
    "papermill": {
     "duration": 0.051776,
     "end_time": "2023-07-29T07:36:15.153218",
     "exception": false,
     "start_time": "2023-07-29T07:36:15.101442",
     "status": "completed"
    },
    "tags": []
   },
   "outputs": [],
   "source": [
    "# Processing Ranked column\n",
    "df_anime['Rank'].value_counts()"
   ]
  },
  {
   "cell_type": "code",
   "execution_count": 14,
   "id": "be21b1fa",
   "metadata": {
    "execution": {
     "iopub.execute_input": "2023-07-29T07:36:15.200694Z",
     "iopub.status.busy": "2023-07-29T07:36:15.200307Z",
     "iopub.status.idle": "2023-07-29T07:36:15.221665Z",
     "shell.execute_reply": "2023-07-29T07:36:15.220377Z"
    },
    "papermill": {
     "duration": 0.04828,
     "end_time": "2023-07-29T07:36:15.224656",
     "exception": false,
     "start_time": "2023-07-29T07:36:15.176376",
     "status": "completed"
    },
    "tags": []
   },
   "outputs": [],
   "source": [
    "df_anime['Rank'] = df_anime['Rank'].replace('UNKNOWN', np.nan)\n",
    "df_anime['Rank'] = df_anime['Rank'].astype('float64')"
   ]
  },
  {
   "cell_type": "code",
   "execution_count": null,
   "id": "fd9f5d51",
   "metadata": {
    "execution": {
     "iopub.execute_input": "2023-07-29T07:36:15.273096Z",
     "iopub.status.busy": "2023-07-29T07:36:15.272665Z",
     "iopub.status.idle": "2023-07-29T07:36:16.353297Z",
     "shell.execute_reply": "2023-07-29T07:36:16.351910Z"
    },
    "papermill": {
     "duration": 1.108768,
     "end_time": "2023-07-29T07:36:16.356406",
     "exception": false,
     "start_time": "2023-07-29T07:36:15.247638",
     "status": "completed"
    },
    "tags": []
   },
   "outputs": [],
   "source": [
    "df_user.info()"
   ]
  },
  {
   "cell_type": "code",
   "execution_count": null,
   "id": "b17b1175",
   "metadata": {
    "execution": {
     "iopub.execute_input": "2023-07-29T07:36:16.405327Z",
     "iopub.status.busy": "2023-07-29T07:36:16.404902Z",
     "iopub.status.idle": "2023-07-29T07:36:31.911037Z",
     "shell.execute_reply": "2023-07-29T07:36:31.909468Z"
    },
    "papermill": {
     "duration": 15.535043,
     "end_time": "2023-07-29T07:36:31.914734",
     "exception": false,
     "start_time": "2023-07-29T07:36:16.379691",
     "status": "completed"
    },
    "tags": []
   },
   "outputs": [],
   "source": [
    "df_score.isnull().sum()"
   ]
  },
  {
   "cell_type": "markdown",
   "id": "ac7456cd",
   "metadata": {
    "papermill": {
     "duration": 0.023057,
     "end_time": "2023-07-29T07:36:31.960819",
     "exception": false,
     "start_time": "2023-07-29T07:36:31.937762",
     "status": "completed"
    },
    "tags": []
   },
   "source": [
    "## Data Visualization"
   ]
  },
  {
   "cell_type": "markdown",
   "id": "916b8d66",
   "metadata": {
    "papermill": {
     "duration": 0.023571,
     "end_time": "2023-07-29T07:36:32.007806",
     "exception": false,
     "start_time": "2023-07-29T07:36:31.984235",
     "status": "completed"
    },
    "tags": []
   },
   "source": [
    "### For Anime Dataset"
   ]
  },
  {
   "cell_type": "code",
   "execution_count": null,
   "id": "da013cdd",
   "metadata": {
    "execution": {
     "iopub.execute_input": "2023-07-29T07:36:32.057816Z",
     "iopub.status.busy": "2023-07-29T07:36:32.056690Z",
     "iopub.status.idle": "2023-07-29T07:36:34.068563Z",
     "shell.execute_reply": "2023-07-29T07:36:34.066956Z"
    },
    "papermill": {
     "duration": 2.04071,
     "end_time": "2023-07-29T07:36:34.071698",
     "exception": false,
     "start_time": "2023-07-29T07:36:32.030988",
     "status": "completed"
    },
    "tags": []
   },
   "outputs": [],
   "source": [
    "# Count the number of anime titles by type\n",
    "type_counts = df_anime['Type'].value_counts()\n",
    "\n",
    "# Create a bar chart\n",
    "fig = px.bar(type_counts, x=type_counts.index, y=type_counts.values, color=type_counts.index, labels={'x':'Anime Type', 'y':'Count'}, \n",
    "             title='Count of Anime Titles by Type')\n",
    "\n",
    "fig.show()"
   ]
  },
  {
   "cell_type": "code",
   "execution_count": null,
   "id": "28caa959",
   "metadata": {
    "execution": {
     "iopub.execute_input": "2023-07-29T07:36:34.136116Z",
     "iopub.status.busy": "2023-07-29T07:36:34.135688Z",
     "iopub.status.idle": "2023-07-29T07:36:34.320718Z",
     "shell.execute_reply": "2023-07-29T07:36:34.319293Z"
    },
    "papermill": {
     "duration": 0.221119,
     "end_time": "2023-07-29T07:36:34.324403",
     "exception": false,
     "start_time": "2023-07-29T07:36:34.103284",
     "status": "completed"
    },
    "tags": []
   },
   "outputs": [],
   "source": [
    "# Filter out anime titles with popularity value 0\n",
    "df_valid_popularity = df_anime[df_anime['Popularity'] > 0]\n",
    "\n",
    "# Sort the dataframe by popularity and select the top 15\n",
    "top_10_popular = df_valid_popularity.sort_values(by='Popularity', ascending=True).head(15)\n",
    "\n",
    "# Create a bar chart with different colors for each bar\n",
    "fig = px.bar(top_10_popular, x='Name', y='Popularity',\n",
    "             labels={'Name': 'Anime Title', 'Popularity': 'Popularity'},\n",
    "             title='Top 15 Most Popular Animes',\n",
    "             color='Name')\n",
    "# Note:- Less the popularity no. is more popular is the anime.\n",
    "fig.show()"
   ]
  },
  {
   "cell_type": "code",
   "execution_count": null,
   "id": "3c63fb2e",
   "metadata": {
    "execution": {
     "iopub.execute_input": "2023-07-29T07:36:34.412868Z",
     "iopub.status.busy": "2023-07-29T07:36:34.412439Z",
     "iopub.status.idle": "2023-07-29T07:36:34.571323Z",
     "shell.execute_reply": "2023-07-29T07:36:34.569943Z"
    },
    "papermill": {
     "duration": 0.249855,
     "end_time": "2023-07-29T07:36:34.616978",
     "exception": false,
     "start_time": "2023-07-29T07:36:34.367123",
     "status": "completed"
    },
    "tags": []
   },
   "outputs": [],
   "source": [
    "# Create a scatter plot\n",
    "fig = px.scatter(df_anime, x='Score', y='Members', \n",
    "                 labels={'Score':'Overall Score', 'Members':'Number of Scores'}, \n",
    "                 title='Anime Score vs. Number of Scores')\n",
    "\n",
    "fig.show()"
   ]
  },
  {
   "cell_type": "code",
   "execution_count": null,
   "id": "b637876f",
   "metadata": {
    "execution": {
     "iopub.execute_input": "2023-07-29T07:36:35.003946Z",
     "iopub.status.busy": "2023-07-29T07:36:35.003475Z",
     "iopub.status.idle": "2023-07-29T07:36:35.178741Z",
     "shell.execute_reply": "2023-07-29T07:36:35.177187Z"
    },
    "papermill": {
     "duration": 0.373277,
     "end_time": "2023-07-29T07:36:35.182273",
     "exception": false,
     "start_time": "2023-07-29T07:36:34.808996",
     "status": "completed"
    },
    "tags": []
   },
   "outputs": [],
   "source": [
    "# Sort the dataframe by the number of users who have scored the anime\n",
    "top_15_scored = df_anime.sort_values(by='Members', ascending=False).head(15)\n",
    "\n",
    "# Create a bar chart\n",
    "fig = px.bar(top_15_scored, x='Name', y='Members', labels={'Members':'Number of Users', 'Name':'Anime Title'},color='Name',\n",
    "             title='Top 15 Animes by Number of Users')\n",
    "\n",
    "fig.show()"
   ]
  },
  {
   "cell_type": "code",
   "execution_count": null,
   "id": "9c667545",
   "metadata": {
    "execution": {
     "iopub.execute_input": "2023-07-29T07:36:35.596871Z",
     "iopub.status.busy": "2023-07-29T07:36:35.596425Z",
     "iopub.status.idle": "2023-07-29T07:36:35.827271Z",
     "shell.execute_reply": "2023-07-29T07:36:35.825922Z"
    },
    "papermill": {
     "duration": 0.437173,
     "end_time": "2023-07-29T07:36:35.831251",
     "exception": false,
     "start_time": "2023-07-29T07:36:35.394078",
     "status": "completed"
    },
    "tags": []
   },
   "outputs": [],
   "source": [
    "# Split the genres and count their occurrences\n",
    "genre_counts = df_anime[df_anime['Genres'] != \"UNKNOWN\"]['Genres'].apply(lambda x: x.split(', ')).explode().value_counts()\n",
    "\n",
    "# Create a bar chart\n",
    "fig = px.bar(genre_counts, x=genre_counts.index, y=genre_counts.values,\n",
    "             labels={'x':'Genre', 'y':'Count'},\n",
    "             title='Count of Anime Titles by Genre',\n",
    "             color=genre_counts.index)\n",
    "\n",
    "fig.show()"
   ]
  },
  {
   "cell_type": "code",
   "execution_count": null,
   "id": "d0cfce76",
   "metadata": {
    "execution": {
     "iopub.execute_input": "2023-07-29T07:36:36.264154Z",
     "iopub.status.busy": "2023-07-29T07:36:36.263353Z",
     "iopub.status.idle": "2023-07-29T07:36:36.374697Z",
     "shell.execute_reply": "2023-07-29T07:36:36.373441Z"
    },
    "papermill": {
     "duration": 0.33188,
     "end_time": "2023-07-29T07:36:36.378513",
     "exception": false,
     "start_time": "2023-07-29T07:36:36.046633",
     "status": "completed"
    },
    "tags": []
   },
   "outputs": [],
   "source": [
    "# Select the top 20 genres\n",
    "top_20_genres = genre_counts.head(20)\n",
    "\n",
    "# Create a bar chart with custom style\n",
    "fig = px.bar(top_20_genres, x=top_20_genres.index, y=top_20_genres.values,\n",
    "             labels={'x':'Genre', 'y':'Count'},\n",
    "             title='Top 20 Most Popular Genres In The Anime Industry')\n",
    "\n",
    "# Customize the bar chart appearance\n",
    "fig.update_traces(marker_color='rgb(158,202,225)', marker_line_color='rgb(8,48,107)',\n",
    "                  marker_line_width=1.5, opacity=0.8)\n",
    "\n",
    "fig.update_layout(xaxis_tickangle=-45, xaxis=dict(tickfont=dict(size=12)),\n",
    "                  yaxis=dict(titlefont=dict(size=14)))\n",
    "\n",
    "fig.show()"
   ]
  },
  {
   "cell_type": "code",
   "execution_count": null,
   "id": "63d47b7b",
   "metadata": {
    "execution": {
     "iopub.execute_input": "2023-07-29T07:36:36.830029Z",
     "iopub.status.busy": "2023-07-29T07:36:36.829209Z",
     "iopub.status.idle": "2023-07-29T07:36:36.885565Z",
     "shell.execute_reply": "2023-07-29T07:36:36.884268Z"
    },
    "papermill": {
     "duration": 0.287985,
     "end_time": "2023-07-29T07:36:36.888577",
     "exception": false,
     "start_time": "2023-07-29T07:36:36.600592",
     "status": "completed"
    },
    "tags": []
   },
   "outputs": [],
   "source": [
    "# Create the plotly figure\n",
    "fig = go.Figure(data=[go.Pie(labels=top_20_genres.index, values=top_20_genres.values,\n",
    "                             hole=0.6, hoverinfo='label+percent', textinfo='value')])\n",
    "\n",
    "fig.update_layout(title='Distribution of Anime Genres',\n",
    "                  legend=dict(font=dict(size=12), title='Genre'),\n",
    "                  annotations=[dict(text='Genre', x=0.5, y=0.5, font_size=20, showarrow=False)])\n",
    "\n",
    "fig.show()"
   ]
  },
  {
   "cell_type": "code",
   "execution_count": null,
   "id": "8f3ff73c",
   "metadata": {
    "execution": {
     "iopub.execute_input": "2023-07-29T07:36:37.350822Z",
     "iopub.status.busy": "2023-07-29T07:36:37.350125Z",
     "iopub.status.idle": "2023-07-29T07:36:39.396683Z",
     "shell.execute_reply": "2023-07-29T07:36:39.395343Z"
    },
    "papermill": {
     "duration": 4.056488,
     "end_time": "2023-07-29T07:36:41.176982",
     "exception": false,
     "start_time": "2023-07-29T07:36:37.120494",
     "status": "completed"
    },
    "tags": []
   },
   "outputs": [],
   "source": [
    "# Concatenate all genre values into a single string\n",
    "genre_text = ' '.join(df_anime[df_anime['Genres'] != \"UNKNOWN\"]['Genres'].dropna())\n",
    "\n",
    "# Create a WordCloud object\n",
    "wordcloud = WordCloud(width=800, height=400, background_color='white').generate(genre_text)\n",
    "\n",
    "# Convert the WordCloud object to an image\n",
    "wordcloud_image = wordcloud.to_image()\n",
    "\n",
    "# Create a Plotly figure to display the WordCloud image\n",
    "fig = go.Figure(go.Image(z=wordcloud_image))\n",
    "fig.update_layout(title='Word Embedding Plot - Genre')\n",
    "fig.show()"
   ]
  },
  {
   "cell_type": "code",
   "execution_count": null,
   "id": "2792a800",
   "metadata": {
    "execution": {
     "iopub.execute_input": "2023-07-29T07:36:52.390743Z",
     "iopub.status.busy": "2023-07-29T07:36:52.390239Z",
     "iopub.status.idle": "2023-07-29T07:36:52.731505Z",
     "shell.execute_reply": "2023-07-29T07:36:52.730385Z"
    },
    "papermill": {
     "duration": 5.989097,
     "end_time": "2023-07-29T07:36:52.777591",
     "exception": false,
     "start_time": "2023-07-29T07:36:46.788494",
     "status": "completed"
    },
    "tags": []
   },
   "outputs": [],
   "source": [
    "# Create a violin plot for anime popularity by type\n",
    "fig = px.violin(df_anime, x='Type', y='Popularity', \n",
    "                labels={'Type':'Anime Type', 'Popularity':'Popularity'},\n",
    "                title='Distribution of Anime Popularity by Type',\n",
    "                color='Type')\n",
    "\n",
    "fig.show()"
   ]
  },
  {
   "cell_type": "code",
   "execution_count": null,
   "id": "a3a890aa",
   "metadata": {
    "execution": {
     "iopub.execute_input": "2023-07-29T07:37:04.257071Z",
     "iopub.status.busy": "2023-07-29T07:37:04.256372Z",
     "iopub.status.idle": "2023-07-29T07:37:04.580808Z",
     "shell.execute_reply": "2023-07-29T07:37:04.579802Z"
    },
    "papermill": {
     "duration": 6.018857,
     "end_time": "2023-07-29T07:37:04.628595",
     "exception": false,
     "start_time": "2023-07-29T07:36:58.609738",
     "status": "completed"
    },
    "tags": []
   },
   "outputs": [],
   "source": [
    "# Create a box plot for anime scores by type\n",
    "fig = px.box(df_anime, x='Type', y='Score', \n",
    "             labels={'Type':'Anime Type', 'Score':'Score'},\n",
    "             title='Distribution of Anime Scores by Type',\n",
    "             color='Type')\n",
    "\n",
    "fig.show()"
   ]
  },
  {
   "cell_type": "code",
   "execution_count": null,
   "id": "6e6a0028",
   "metadata": {
    "execution": {
     "iopub.execute_input": "2023-07-29T07:37:16.375700Z",
     "iopub.status.busy": "2023-07-29T07:37:16.374341Z",
     "iopub.status.idle": "2023-07-29T07:37:16.563124Z",
     "shell.execute_reply": "2023-07-29T07:37:16.561997Z"
    },
    "papermill": {
     "duration": 5.964827,
     "end_time": "2023-07-29T07:37:16.631001",
     "exception": false,
     "start_time": "2023-07-29T07:37:10.666174",
     "status": "completed"
    },
    "tags": []
   },
   "outputs": [],
   "source": [
    "# Create a bubble chart to visualize the relationship between popularity and scored_by\n",
    "fig = px.scatter(df_anime, x='Popularity', y='Members', size='Score', color='Type',\n",
    "                 labels={'Popularity':'Popularity', 'Members':'Number of Scores'},\n",
    "                 title='Relationship between Popularity, Number of Scores, and Score')\n",
    "\n",
    "fig.show()"
   ]
  },
  {
   "cell_type": "code",
   "execution_count": null,
   "id": "37f7685a",
   "metadata": {
    "execution": {
     "iopub.execute_input": "2023-07-29T07:37:29.087254Z",
     "iopub.status.busy": "2023-07-29T07:37:29.086488Z",
     "iopub.status.idle": "2023-07-29T07:37:29.419442Z",
     "shell.execute_reply": "2023-07-29T07:37:29.417932Z"
    },
    "papermill": {
     "duration": 6.734047,
     "end_time": "2023-07-29T07:37:29.552194",
     "exception": false,
     "start_time": "2023-07-29T07:37:22.818147",
     "status": "completed"
    },
    "tags": []
   },
   "outputs": [],
   "source": [
    "# Create a 3D scatter plot to visualize the relationship between popularity, scored_by, and score\n",
    "fig = go.Figure(data=go.Scatter3d(\n",
    "    x=df_anime['Popularity'],\n",
    "    y=df_anime['Members'],\n",
    "    z=df_anime['Score'],\n",
    "    mode='markers',\n",
    "    marker=dict(\n",
    "        size=5,\n",
    "        color=df_anime['Rank'],\n",
    "        colorscale='Viridis',\n",
    "        opacity=0.8\n",
    "    ),\n",
    "    text=df_anime['Name'],\n",
    "    hovertemplate='<b>Title</b>: %{text}<br><b>Popularity</b>: %{x}<br><b>Scored By</b>: %{y}<br><b>Score</b>: %{z}',\n",
    "))\n",
    "\n",
    "fig.update_layout(scene=dict(\n",
    "    xaxis_title='Popularity',\n",
    "    yaxis_title='Scored By',\n",
    "    zaxis_title='Score'\n",
    "), title='Relationship between Popularity, Scored By, and Score')\n",
    "\n",
    "fig.show()"
   ]
  },
  {
   "cell_type": "code",
   "execution_count": null,
   "id": "02f29628",
   "metadata": {
    "execution": {
     "iopub.execute_input": "2023-07-29T07:37:42.490520Z",
     "iopub.status.busy": "2023-07-29T07:37:42.490110Z",
     "iopub.status.idle": "2023-07-29T07:37:42.543664Z",
     "shell.execute_reply": "2023-07-29T07:37:42.542014Z"
    },
    "papermill": {
     "duration": 6.439801,
     "end_time": "2023-07-29T07:37:42.546896",
     "exception": false,
     "start_time": "2023-07-29T07:37:36.107095",
     "status": "completed"
    },
    "tags": []
   },
   "outputs": [],
   "source": [
    "# Create a correlation matrix\n",
    "correlation_matrix = df_anime[['Score', 'Popularity', 'Rank']].corr()\n",
    "\n",
    "# Create a heatmap of the correlation matrix\n",
    "fig = ff.create_annotated_heatmap(z=correlation_matrix.values,\n",
    "                                  x=list(correlation_matrix.columns),\n",
    "                                  y=list(correlation_matrix.index),\n",
    "                                  colorscale='Viridis')\n",
    "fig.update_layout(title='Correlation Matrix')\n",
    "fig.show()"
   ]
  },
  {
   "cell_type": "code",
   "execution_count": null,
   "id": "7363c20b",
   "metadata": {
    "execution": {
     "iopub.execute_input": "2023-07-29T07:37:55.557196Z",
     "iopub.status.busy": "2023-07-29T07:37:55.556344Z",
     "iopub.status.idle": "2023-07-29T07:37:55.570680Z",
     "shell.execute_reply": "2023-07-29T07:37:55.569458Z"
    },
    "papermill": {
     "duration": 6.434972,
     "end_time": "2023-07-29T07:37:55.573517",
     "exception": false,
     "start_time": "2023-07-29T07:37:49.138545",
     "status": "completed"
    },
    "tags": []
   },
   "outputs": [],
   "source": [
    "df_anime['Licensors'].value_counts()"
   ]
  },
  {
   "cell_type": "code",
   "execution_count": null,
   "id": "0eaa41c2",
   "metadata": {
    "execution": {
     "iopub.execute_input": "2023-07-29T07:38:08.554894Z",
     "iopub.status.busy": "2023-07-29T07:38:08.554457Z",
     "iopub.status.idle": "2023-07-29T07:38:08.717308Z",
     "shell.execute_reply": "2023-07-29T07:38:08.716142Z"
    },
    "papermill": {
     "duration": 6.823174,
     "end_time": "2023-07-29T07:38:08.721113",
     "exception": false,
     "start_time": "2023-07-29T07:38:01.897939",
     "status": "completed"
    },
    "tags": []
   },
   "outputs": [],
   "source": [
    "# Create a list of all the individual licensors\n",
    "licensors_list = [licensor.strip() for licensors in df_anime[df_anime['Licensors']!=\"UNKNOWN\"]['Licensors'].str.split(',') for licensor in licensors]\n",
    "\n",
    "# Count the occurrences of each licensor\n",
    "licensor_counts = pd.Series(licensors_list).value_counts()\n",
    "\n",
    "# Filter the licensor_counts series to exclude 'Unknown'\n",
    "filtered_licensor_counts = licensor_counts[licensor_counts.index != 'Unknown']\n",
    "\n",
    "# Select the top 10 licensors\n",
    "top_15_licensors = filtered_licensor_counts.head(10)\n",
    "\n",
    "# Create the bar plot using Plotly\n",
    "fig = px.bar(top_15_licensors, x=top_15_licensors.index, y=top_15_licensors.values, color=top_15_licensors.index)\n",
    "\n",
    "# Customize the plot\n",
    "fig.update_layout(\n",
    "    title='Top 10 Anime Licensors',\n",
    "    xaxis_title='Licensors',\n",
    "    yaxis_title='Count',\n",
    "    xaxis_tickangle=-45\n",
    ")\n",
    "\n",
    "# Show the plot\n",
    "fig.show()"
   ]
  },
  {
   "cell_type": "code",
   "execution_count": null,
   "id": "d3dd66d5",
   "metadata": {
    "execution": {
     "iopub.execute_input": "2023-07-29T07:38:21.553478Z",
     "iopub.status.busy": "2023-07-29T07:38:21.553060Z",
     "iopub.status.idle": "2023-07-29T07:38:21.568482Z",
     "shell.execute_reply": "2023-07-29T07:38:21.566966Z"
    },
    "papermill": {
     "duration": 6.510462,
     "end_time": "2023-07-29T07:38:21.571256",
     "exception": false,
     "start_time": "2023-07-29T07:38:15.060794",
     "status": "completed"
    },
    "tags": []
   },
   "outputs": [],
   "source": [
    "df_anime['Premiered'].value_counts()"
   ]
  },
  {
   "cell_type": "code",
   "execution_count": 33,
   "id": "b1a544e7",
   "metadata": {
    "execution": {
     "iopub.execute_input": "2023-07-29T07:38:34.519028Z",
     "iopub.status.busy": "2023-07-29T07:38:34.518548Z",
     "iopub.status.idle": "2023-07-29T07:38:34.556530Z",
     "shell.execute_reply": "2023-07-29T07:38:34.555364Z"
    },
    "papermill": {
     "duration": 6.346696,
     "end_time": "2023-07-29T07:38:34.559591",
     "exception": false,
     "start_time": "2023-07-29T07:38:28.212895",
     "status": "completed"
    },
    "tags": []
   },
   "outputs": [],
   "source": [
    "# Function to extract the season and year from the premiered string\n",
    "def extract_season_year(premiered):\n",
    "    if premiered == 'UNKNOWN':\n",
    "        return None, None\n",
    "    else:\n",
    "        season, year = premiered.split()\n",
    "        return season, int(year)\n",
    "\n",
    "# Apply the function to extract the season and year from the \"Premiered\" column\n",
    "season_year = df_anime['Premiered'].map(extract_season_year)\n",
    "premiered_season = season_year.apply(lambda x: x[0])\n",
    "premiered_Year = season_year.apply(lambda x: x[1])"
   ]
  },
  {
   "cell_type": "code",
   "execution_count": null,
   "id": "2e42354c",
   "metadata": {
    "execution": {
     "iopub.execute_input": "2023-07-29T07:38:47.477753Z",
     "iopub.status.busy": "2023-07-29T07:38:47.476567Z",
     "iopub.status.idle": "2023-07-29T07:38:47.546919Z",
     "shell.execute_reply": "2023-07-29T07:38:47.545231Z"
    },
    "papermill": {
     "duration": 6.365062,
     "end_time": "2023-07-29T07:38:47.550191",
     "exception": false,
     "start_time": "2023-07-29T07:38:41.185129",
     "status": "completed"
    },
    "tags": []
   },
   "outputs": [],
   "source": [
    "# Filter out None values from premiered_season\n",
    "filtered_premiered_season = premiered_season.dropna()\n",
    "\n",
    "# Count the occurrences of each season\n",
    "season_counts = filtered_premiered_season.value_counts()\n",
    "\n",
    "# Create the pie plot\n",
    "fig = go.Figure(data=go.Pie(\n",
    "    labels=season_counts.index,\n",
    "    values=season_counts.values,\n",
    "    hole=0.4,  # Add a donut hole in the center\n",
    "    hoverinfo='label+percent',  # Display label and percentage on hover\n",
    "    textinfo='value',  # Display count value as text inside each slice\n",
    "    textfont=dict(size=14),  # Set the text font size\n",
    "    marker=dict(\n",
    "        colors=['#1f77b4', '#ff7f0e', '#2ca02c', '#d62728', '#9467bd'],  # Custom color palette\n",
    "        line=dict(color='#ffffff', width=2)  # Set the color and width of the slice borders\n",
    "    )\n",
    "))\n",
    "\n",
    "# Set the title and font style for the plot\n",
    "fig.update_layout(\n",
    "    title='Distribution of Premiered Seasons',\n",
    "    title_font=dict(size=20),\n",
    "    font=dict(size=12, color='#555555')\n",
    ")\n",
    "\n",
    "fig.show()"
   ]
  },
  {
   "cell_type": "code",
   "execution_count": null,
   "id": "0f69bbbe",
   "metadata": {
    "execution": {
     "iopub.execute_input": "2023-07-29T07:39:00.587097Z",
     "iopub.status.busy": "2023-07-29T07:39:00.586480Z",
     "iopub.status.idle": "2023-07-29T07:39:00.616494Z",
     "shell.execute_reply": "2023-07-29T07:39:00.615242Z"
    },
    "papermill": {
     "duration": 6.441742,
     "end_time": "2023-07-29T07:39:00.619497",
     "exception": false,
     "start_time": "2023-07-29T07:38:54.177755",
     "status": "completed"
    },
    "tags": []
   },
   "outputs": [],
   "source": [
    "# Filter out None values from premiered_Year\n",
    "filtered_premiered_year = premiered_Year.dropna()\n",
    "\n",
    "# Count the occurrences of each year\n",
    "year_counts = filtered_premiered_year.value_counts()\n",
    "\n",
    "# Sort the years in ascending order\n",
    "sorted_years = sorted(year_counts.index)\n",
    "\n",
    "# Create the bar plot\n",
    "fig = go.Figure(data=go.Bar(\n",
    "    x=sorted_years,\n",
    "    y=year_counts[sorted_years],\n",
    "    marker=dict(color='#1f77b4'),  # Set the color of the bars\n",
    "))\n",
    "\n",
    "# Set the title and axis labels\n",
    "fig.update_layout(\n",
    "    title='Number of Animes Premiered by Year',\n",
    "    xaxis_title='Year',\n",
    "    yaxis_title='Number of Animes',\n",
    "    title_font=dict(size=20),\n",
    "    font=dict(size=12, color='#555555')\n",
    ")\n",
    "\n",
    "fig.show()"
   ]
  },
  {
   "cell_type": "code",
   "execution_count": null,
   "id": "f827beff",
   "metadata": {
    "execution": {
     "iopub.execute_input": "2023-07-29T07:39:13.725246Z",
     "iopub.status.busy": "2023-07-29T07:39:13.724285Z",
     "iopub.status.idle": "2023-07-29T07:39:13.761265Z",
     "shell.execute_reply": "2023-07-29T07:39:13.759915Z"
    },
    "papermill": {
     "duration": 6.611636,
     "end_time": "2023-07-29T07:39:13.764745",
     "exception": false,
     "start_time": "2023-07-29T07:39:07.153109",
     "status": "completed"
    },
    "tags": []
   },
   "outputs": [],
   "source": [
    "# Count the occurrences of each studio\n",
    "studio_counts = df_anime['Studios'].value_counts()\n",
    "\n",
    "# Filter the studio_counts series to exclude 'Unknown'\n",
    "studio_counts = studio_counts[studio_counts.index != 'UNKNOWN']\n",
    "\n",
    "# Select the top 10 studios with the highest number of animes\n",
    "top_studios = studio_counts.head(10)\n",
    "\n",
    "# Create the bar plot\n",
    "fig = go.Figure(data=go.Bar(\n",
    "    x=top_studios.index,\n",
    "    y=top_studios.values,\n",
    "    marker=dict(color=top_studios.values, colorscale='Blues'),  # Set the color of the bars using a colorscale\n",
    "    text=top_studios.values,  # Set the text to be displayed on hover\n",
    "    hovertemplate='Studio: %{x}<br>Number of Animes: %{y}<extra></extra>',  # Customize the hover template\n",
    "))\n",
    "\n",
    "# Set the title and axis labels\n",
    "fig.update_layout(\n",
    "    title='Number of Animes by Studio (Top 10)',\n",
    "    xaxis_title='Studios',\n",
    "    yaxis_title='Number of Animes',\n",
    "    title_font=dict(size=20),\n",
    "    font=dict(size=12, color='#555555'),\n",
    "    plot_bgcolor='rgba(0, 0, 0, 0)'  # Set the background color to transparent\n",
    ")\n",
    "\n",
    "fig.show()"
   ]
  },
  {
   "cell_type": "code",
   "execution_count": null,
   "id": "9197d0d6",
   "metadata": {
    "execution": {
     "iopub.execute_input": "2023-07-29T07:39:26.715585Z",
     "iopub.status.busy": "2023-07-29T07:39:26.715164Z",
     "iopub.status.idle": "2023-07-29T07:39:26.753952Z",
     "shell.execute_reply": "2023-07-29T07:39:26.752929Z"
    },
    "papermill": {
     "duration": 6.64253,
     "end_time": "2023-07-29T07:39:26.757244",
     "exception": false,
     "start_time": "2023-07-29T07:39:20.114714",
     "status": "completed"
    },
    "tags": []
   },
   "outputs": [],
   "source": [
    "# Count the occurrences of each source\n",
    "source_counts = df_anime['Source'].value_counts()\n",
    "\n",
    "# Filter the source_counts series to exclude 'Unknown'\n",
    "source_counts = source_counts[source_counts.index != 'UNKNOWN']\n",
    "\n",
    "# Create the horizontal bar chart\n",
    "fig = go.Figure(data=go.Bar(\n",
    "    x=source_counts.values,\n",
    "    y=source_counts.index,\n",
    "    orientation='h',  # Set the orientation to horizontal\n",
    "    marker=dict(color=source_counts.values, colorscale='Viridis'),  # Set the color of the bars using a colorscale\n",
    "    text=source_counts.values,  # Set the text to be displayed on hover\n",
    "    hovertemplate='Source: %{y}<br>Number of Animes: %{x}<extra></extra>',  # Customize the hover template\n",
    "))\n",
    "\n",
    "# Set the title and axis labels\n",
    "fig.update_layout(\n",
    "    title='Number of Animes by Source',\n",
    "    xaxis_title='Number of Animes',\n",
    "    yaxis_title='Source',\n",
    "    title_font=dict(size=20),\n",
    "    font=dict(size=12, color='#555555')\n",
    ")\n",
    "\n",
    "fig.show()"
   ]
  },
  {
   "cell_type": "code",
   "execution_count": null,
   "id": "ee4806a5",
   "metadata": {
    "execution": {
     "iopub.execute_input": "2023-07-29T07:39:39.766825Z",
     "iopub.status.busy": "2023-07-29T07:39:39.765995Z",
     "iopub.status.idle": "2023-07-29T07:39:39.807407Z",
     "shell.execute_reply": "2023-07-29T07:39:39.806057Z"
    },
    "papermill": {
     "duration": 6.590087,
     "end_time": "2023-07-29T07:39:39.810488",
     "exception": false,
     "start_time": "2023-07-29T07:39:33.220401",
     "status": "completed"
    },
    "tags": []
   },
   "outputs": [],
   "source": [
    "# Sort the DataFrame by the 'Favorites' column in descending order\n",
    "sorted_df = df_anime.sort_values('Favorites', ascending=False)\n",
    "\n",
    "# Select the top 10 most favorited anime\n",
    "top_favorites = sorted_df.head(10)\n",
    "\n",
    "# Create the horizontal bar chart\n",
    "fig = go.Figure(data=go.Bar(\n",
    "    x=top_favorites['Favorites'],\n",
    "    y=top_favorites['Name'],\n",
    "    orientation='h',  # Set the orientation to horizontal\n",
    "    marker=dict(color='#1f77b4'),  # Set the color of the bars\n",
    "    text=top_favorites['Favorites'],  # Set the text to be displayed on hover\n",
    "    hovertemplate='Anime: %{y}<br>Favorites: %{x}<extra></extra>',  # Customize the hover template\n",
    "))\n",
    "\n",
    "# Set the title and axis labels\n",
    "fig.update_layout(\n",
    "    title='Top 10 Most Favorited Anime',\n",
    "    xaxis_title='Number of Favorites',\n",
    "    yaxis_title='Anime',\n",
    "    title_font=dict(size=20),\n",
    "    font=dict(size=12, color='#555555')\n",
    ")\n",
    "\n",
    "fig.show()"
   ]
  },
  {
   "cell_type": "code",
   "execution_count": null,
   "id": "fa258864",
   "metadata": {
    "execution": {
     "iopub.execute_input": "2023-07-29T07:39:52.980743Z",
     "iopub.status.busy": "2023-07-29T07:39:52.980171Z",
     "iopub.status.idle": "2023-07-29T07:39:53.043105Z",
     "shell.execute_reply": "2023-07-29T07:39:53.041262Z"
    },
    "papermill": {
     "duration": 6.552232,
     "end_time": "2023-07-29T07:39:53.046647",
     "exception": false,
     "start_time": "2023-07-29T07:39:46.494415",
     "status": "completed"
    },
    "tags": []
   },
   "outputs": [],
   "source": [
    "# Creating the treemap plot too fr the above code snippet\n",
    "fig = go.Figure(go.Treemap(\n",
    "    labels=top_favorites['Name'],\n",
    "    parents=[\"\"] * len(top_favorites),\n",
    "    values=top_favorites['Favorites'],\n",
    "    hovertemplate='Name: %{label}<br>Favorites: %{value}',\n",
    "))\n",
    "\n",
    "# Set the color scale\n",
    "colors = ['#1f77b4', '#ff7f0e', '#2ca02c', '#d62728', '#9467bd',\n",
    "          '#8c564b', '#e377c2', '#7f7f7f', '#bcbd22', '#17becf']\n",
    "fig.update_traces(marker=dict(colors=colors))\n",
    "\n",
    "# Set the title\n",
    "fig.update_layout(\n",
    "    title='Top 10 Most Favorited Anime (Treemap)',\n",
    "    title_font=dict(size=20),\n",
    "    font=dict(size=12, color='#555555'),\n",
    ")\n",
    "\n",
    "fig.show()"
   ]
  },
  {
   "cell_type": "code",
   "execution_count": null,
   "id": "05eadd9a",
   "metadata": {
    "execution": {
     "iopub.execute_input": "2023-07-29T07:40:06.603193Z",
     "iopub.status.busy": "2023-07-29T07:40:06.602388Z",
     "iopub.status.idle": "2023-07-29T07:40:06.644193Z",
     "shell.execute_reply": "2023-07-29T07:40:06.642854Z"
    },
    "papermill": {
     "duration": 6.684313,
     "end_time": "2023-07-29T07:40:06.647260",
     "exception": false,
     "start_time": "2023-07-29T07:39:59.962947",
     "status": "completed"
    },
    "tags": []
   },
   "outputs": [],
   "source": [
    "# Count the occurrences of each rating\n",
    "rating_counts = df_anime[df_anime['Rating']!=\"UNKNOWN\"]['Rating'].value_counts()\n",
    "\n",
    "# Filter the rating_counts series to exclude 'Unknown'\n",
    "rating_counts = rating_counts[rating_counts.index != 'Unknown']\n",
    "\n",
    "# Create the pie plot\n",
    "fig = go.Figure(data=go.Pie(\n",
    "    labels=rating_counts.index,\n",
    "    values=rating_counts.values,\n",
    "    hoverinfo='label+percent',\n",
    "    textinfo='value',\n",
    "    textfont=dict(size=12),\n",
    "    marker=dict(colors=['#1f77b4']),  # Set the same color for all segments\n",
    "    hole=0.6,  # Set the size of the inner hole to create a donut shape\n",
    "))\n",
    "\n",
    "# Set the title\n",
    "fig.update_layout(\n",
    "    title='Distribution of Anime Ratings',\n",
    "    title_font=dict(size=20),\n",
    "    font=dict(size=12, color='#555555'),\n",
    ")\n",
    "\n",
    "fig.show()"
   ]
  },
  {
   "cell_type": "code",
   "execution_count": 41,
   "id": "f5960f3d",
   "metadata": {
    "execution": {
     "iopub.execute_input": "2023-07-29T07:40:19.767228Z",
     "iopub.status.busy": "2023-07-29T07:40:19.766396Z",
     "iopub.status.idle": "2023-07-29T07:40:19.774932Z",
     "shell.execute_reply": "2023-07-29T07:40:19.773525Z"
    },
    "papermill": {
     "duration": 6.690688,
     "end_time": "2023-07-29T07:40:19.778513",
     "exception": false,
     "start_time": "2023-07-29T07:40:13.087825",
     "status": "completed"
    },
    "tags": []
   },
   "outputs": [],
   "source": [
    "# Function to map abbreviated language codes to full names\n",
    "def map_language_code(code):\n",
    "    language_mapping = {\n",
    "        'ja': 'Japanese',\n",
    "        'ko': 'Korean',\n",
    "        'zh-cn': 'Simplified Chinese',\n",
    "        'de': 'German',\n",
    "        'vi': 'Vietnamese',\n",
    "        'en': 'English',\n",
    "        'zh-tw': 'Traditional Chinese'\n",
    "    }\n",
    "    return language_mapping.get(code, 'Other')\n",
    "\n",
    "# Function to detect language\n",
    "def detect_language(name):\n",
    "    try:\n",
    "        return detect(name)\n",
    "    except:\n",
    "        return None  # Return None for rows where detection fails"
   ]
  },
  {
   "cell_type": "code",
   "execution_count": null,
   "id": "336f3be7",
   "metadata": {
    "execution": {
     "iopub.execute_input": "2023-07-29T07:40:32.686148Z",
     "iopub.status.busy": "2023-07-29T07:40:32.685169Z",
     "iopub.status.idle": "2023-07-29T07:42:29.415065Z",
     "shell.execute_reply": "2023-07-29T07:42:29.413510Z"
    },
    "papermill": {
     "duration": 129.907161,
     "end_time": "2023-07-29T07:42:36.070741",
     "exception": false,
     "start_time": "2023-07-29T07:40:26.163580",
     "status": "completed"
    },
    "tags": []
   },
   "outputs": [],
   "source": [
    "# Apply language detection to the 'Other name' column\n",
    "Detected_Language = df_anime[df_anime['Other name']!=\"UNKNOWN\"]['Other name'].apply(detect_language)\n",
    "\n",
    "# Drop rows where language detection failed (i.e., where Detected_Language is None)\n",
    "Detected_Language = Detected_Language.dropna()\n",
    "\n",
    "# Count the occurrences of each language\n",
    "language_counts = Detected_Language.value_counts()\n",
    "\n",
    "# Map abbreviated language codes to full names for plotting\n",
    "language_counts.index = language_counts.index.map(map_language_code)\n",
    "\n",
    "fig = go.Figure(data=go.Bar(\n",
    "    x=language_counts.values,\n",
    "    y=language_counts.index,\n",
    "    orientation='h',\n",
    "    marker=dict(color=language_counts.values, colorscale='Viridis'),\n",
    "    text=language_counts.values,  # Set the text to be displayed on hover\n",
    "    hovertemplate='Native Language: %{y}<br>Number of Animes: %{x}<extra></extra>',\n",
    "))\n",
    "\n",
    "# Set the title and axis labels\n",
    "fig.update_layout(\n",
    "    title='Count of Animes based on its Native Name',\n",
    "    xaxis_title='Number of Animes',\n",
    "    yaxis_title='Native Language',\n",
    "    title_font=dict(size=20),\n",
    "    font=dict(size=12, color='#555555')\n",
    ")\n",
    "\n",
    "fig.show()"
   ]
  },
  {
   "cell_type": "markdown",
   "id": "4fe5afb2",
   "metadata": {
    "papermill": {
     "duration": 6.673211,
     "end_time": "2023-07-29T07:42:49.121388",
     "exception": false,
     "start_time": "2023-07-29T07:42:42.448177",
     "status": "completed"
    },
    "tags": []
   },
   "source": [
    "### For User Dataset"
   ]
  },
  {
   "cell_type": "code",
   "execution_count": null,
   "id": "42f71d64",
   "metadata": {
    "execution": {
     "iopub.execute_input": "2023-07-29T07:43:01.944867Z",
     "iopub.status.busy": "2023-07-29T07:43:01.944406Z",
     "iopub.status.idle": "2023-07-29T07:43:02.054687Z",
     "shell.execute_reply": "2023-07-29T07:43:02.053090Z"
    },
    "papermill": {
     "duration": 6.452714,
     "end_time": "2023-07-29T07:43:02.057832",
     "exception": false,
     "start_time": "2023-07-29T07:42:55.605118",
     "status": "completed"
    },
    "tags": []
   },
   "outputs": [],
   "source": [
    "# Distribution of gender\n",
    "# Count the occurrences of each gender\n",
    "gender_counts = df_user['Gender'].value_counts(dropna=True)\n",
    "\n",
    "# Define custom colors for the pie slices\n",
    "colors = ['rgb(0, 123, 255)', 'rgb(255, 65, 54)', 'rgb(255, 187, 0)', 'rgb(125, 125, 125)']\n",
    "\n",
    "# Create the pie plot\n",
    "fig = go.Figure()\n",
    "\n",
    "fig.add_trace(go.Pie(\n",
    "    labels=gender_counts.index,\n",
    "    values=gender_counts.values,\n",
    "    hole=0.3,\n",
    "    marker=dict(colors=colors, line=dict(color='#FFFFFF', width=2)),\n",
    "    hoverinfo='label+percent',\n",
    "    hovertemplate='<b>%{label}</b><br>%{percent}',\n",
    "    textinfo='value',\n",
    "    textposition='inside',\n",
    "    sort=False\n",
    "))\n",
    "\n",
    "# Customize the layout\n",
    "fig.update_layout(\n",
    "    title='Gender Distribution',\n",
    "    title_x=0.5,\n",
    "    uniformtext_minsize=12,\n",
    "    uniformtext_mode='hide',\n",
    "    showlegend=False,\n",
    "    paper_bgcolor='rgba(0,0,0,0)',\n",
    "    plot_bgcolor='rgba(0,0,0,0)',\n",
    "    margin=dict(l=20, r=20, t=100, b=20),\n",
    ")\n",
    "\n",
    "# Show the plot\n",
    "fig.show()"
   ]
  },
  {
   "cell_type": "code",
   "execution_count": null,
   "id": "82e5079c",
   "metadata": {
    "execution": {
     "iopub.execute_input": "2023-07-29T07:43:15.110738Z",
     "iopub.status.busy": "2023-07-29T07:43:15.110309Z",
     "iopub.status.idle": "2023-07-29T07:43:15.207051Z",
     "shell.execute_reply": "2023-07-29T07:43:15.205688Z"
    },
    "papermill": {
     "duration": 6.428797,
     "end_time": "2023-07-29T07:43:15.209989",
     "exception": false,
     "start_time": "2023-07-29T07:43:08.781192",
     "status": "completed"
    },
    "tags": []
   },
   "outputs": [],
   "source": [
    "df_user['Birthday'].value_counts(dropna=True)"
   ]
  },
  {
   "cell_type": "code",
   "execution_count": null,
   "id": "41475304",
   "metadata": {
    "execution": {
     "iopub.execute_input": "2023-07-29T07:43:28.224097Z",
     "iopub.status.busy": "2023-07-29T07:43:28.223286Z",
     "iopub.status.idle": "2023-07-29T07:43:28.944070Z",
     "shell.execute_reply": "2023-07-29T07:43:28.941758Z"
    },
    "papermill": {
     "duration": 7.425149,
     "end_time": "2023-07-29T07:43:29.088161",
     "exception": false,
     "start_time": "2023-07-29T07:43:21.663012",
     "status": "completed"
    },
    "tags": []
   },
   "outputs": [],
   "source": [
    "# Age Distribution\n",
    "# Convert birthday to age\n",
    "def calculate_age(birth_date):\n",
    "    if birth_date != 'NaN':\n",
    "        try:\n",
    "            birth_year = int(birth_date.split('-')[0])\n",
    "            today_year = datetime.utcnow().year\n",
    "            age = today_year - birth_year\n",
    "            if age >= 10 and age < 60:  # Valid age range (modify as needed)\n",
    "                return age\n",
    "            else:\n",
    "                return None\n",
    "        except:\n",
    "            return None\n",
    "    return None\n",
    "\n",
    "# Apply age calculation to the 'Birthday' column\n",
    "Age = df_user['Birthday'].dropna().apply(calculate_age)\n",
    "\n",
    "# Create the histogram\n",
    "fig = px.histogram(Age, nbins=20, title='Age Distribution', labels={'value': 'Age', 'count': 'Count'})\n",
    "\n",
    "# Customize the layout\n",
    "fig.update_layout(\n",
    "    xaxis=dict(title='Age'),\n",
    "    yaxis=dict(title='Count'),\n",
    "    bargap=0.1,\n",
    "    showlegend=False,\n",
    "    paper_bgcolor='rgba(0,0,0,0)',\n",
    "    plot_bgcolor='rgba(0,0,0,0)',\n",
    "    margin=dict(l=50, r=20, t=100, b=50),\n",
    ")\n",
    "\n",
    "# Show the plot\n",
    "fig.show()"
   ]
  },
  {
   "cell_type": "code",
   "execution_count": null,
   "id": "0d82b414",
   "metadata": {
    "execution": {
     "iopub.execute_input": "2023-07-29T07:43:43.346183Z",
     "iopub.status.busy": "2023-07-29T07:43:43.345582Z",
     "iopub.status.idle": "2023-07-29T07:43:43.622185Z",
     "shell.execute_reply": "2023-07-29T07:43:43.621018Z"
    },
    "papermill": {
     "duration": 7.564688,
     "end_time": "2023-07-29T07:43:43.626757",
     "exception": false,
     "start_time": "2023-07-29T07:43:36.062069",
     "status": "completed"
    },
    "tags": []
   },
   "outputs": [],
   "source": [
    "# Location analysis\n",
    "# Count the occurrences of each location\n",
    "location_counts = df_user['Location'].value_counts()\n",
    "\n",
    "# Create a bar chart\n",
    "fig = px.bar(location_counts.head(20),\n",
    "             x=location_counts.head(20).index,\n",
    "             y=location_counts.head(20).values,\n",
    "             labels={'x': 'Location', 'y': 'Count'},\n",
    "             title='Top 20 User Locations',\n",
    "             color=location_counts.head(20).index)\n",
    "\n",
    "# Customize the layout\n",
    "fig.update_layout(\n",
    "    xaxis=dict(title='Location'),\n",
    "    yaxis=dict(title='Count'),\n",
    "    bargap=0.1,\n",
    "    showlegend=False,\n",
    "    paper_bgcolor='rgba(0,0,0,0)',\n",
    "    plot_bgcolor='rgba(0,0,0,0)',\n",
    "    margin=dict(l=50, r=20, t=100, b=50),\n",
    ")\n",
    "\n",
    "# Show the plot\n",
    "fig.show()"
   ]
  },
  {
   "cell_type": "code",
   "execution_count": null,
   "id": "66050c5e",
   "metadata": {
    "execution": {
     "iopub.execute_input": "2023-07-29T07:43:57.890667Z",
     "iopub.status.busy": "2023-07-29T07:43:57.890219Z",
     "iopub.status.idle": "2023-07-29T07:43:58.084401Z",
     "shell.execute_reply": "2023-07-29T07:43:58.083030Z"
    },
    "papermill": {
     "duration": 7.446405,
     "end_time": "2023-07-29T07:43:58.087483",
     "exception": false,
     "start_time": "2023-07-29T07:43:50.641078",
     "status": "completed"
    },
    "tags": []
   },
   "outputs": [],
   "source": [
    "# Define the metrics you want to consider for top users\n",
    "metrics = ['Days Watched']\n",
    "# You can change the metrics to 'Mean Score', 'Watching', 'Completed', 'On Hold', 'Dropped', 'Plan to Watch' or include\n",
    "# a combination of them to see the comparison b/w them such as Watching vs. Completed\n",
    "\n",
    "# Initialize an empty DataFrame to store the top users\n",
    "top_users = pd.DataFrame()\n",
    "\n",
    "for metric in metrics:\n",
    "    top_users = pd.concat([top_users, df_user.nlargest(15, metric)], ignore_index=True)\n",
    "\n",
    "# Create a bar chart for the top users based on the chosen metrics\n",
    "fig = px.bar(top_users, x='Username', y=metrics, barmode='group',\n",
    "             title='Top 15 Users Based on some Metrics',\n",
    "             labels={'value': 'Count', 'variable': 'Metric'},\n",
    "             color_discrete_sequence=px.colors.qualitative.Plotly)\n",
    "\n",
    "# Customize the layout\n",
    "fig.update_layout(\n",
    "    xaxis=dict(title='Users'),\n",
    "    yaxis=dict(title='Count'),\n",
    "    legend_title_text='Metric',\n",
    "    paper_bgcolor='rgba(0,0,0,0)',\n",
    "    plot_bgcolor='rgba(0,0,0,0)',\n",
    "    margin=dict(l=50, r=20, t=100, b=50),\n",
    ")\n",
    "\n",
    "# Show the plot\n",
    "fig.show()"
   ]
  },
  {
   "cell_type": "code",
   "execution_count": null,
   "id": "39bfc353",
   "metadata": {
    "execution": {
     "iopub.execute_input": "2023-07-29T07:44:12.488380Z",
     "iopub.status.busy": "2023-07-29T07:44:12.487929Z",
     "iopub.status.idle": "2023-07-29T07:44:12.634265Z",
     "shell.execute_reply": "2023-07-29T07:44:12.632682Z"
    },
    "papermill": {
     "duration": 7.558252,
     "end_time": "2023-07-29T07:44:12.636911",
     "exception": false,
     "start_time": "2023-07-29T07:44:05.078659",
     "status": "completed"
    },
    "tags": []
   },
   "outputs": [],
   "source": [
    "# Function to get watching behavior of a specific user\n",
    "def get_watching_behavior(username):\n",
    "    user_data = df_user[df_user['Username'] == username]\n",
    "    if len(user_data) == 0:\n",
    "        return None\n",
    "    watching = user_data['Watching'].values[0]\n",
    "    on_hold = user_data['On Hold'].values[0]\n",
    "    completed = user_data['Completed'].values[0]\n",
    "    dropped = user_data['Dropped'].values[0]\n",
    "    plan_to_watch = user_data['Plan to Watch'].values[0]\n",
    "    return watching, on_hold, completed, dropped, plan_to_watch\n",
    "\n",
    "# Get the input username from the user\n",
    "username_input = \"midnightq2\"                           #  input(\"Enter the username: \")\n",
    "\n",
    "# Get the watching behavior of the user\n",
    "watching, on_hold, completed, dropped, plan_to_watch = get_watching_behavior(username_input)\n",
    "\n",
    "# Create the pie chart\n",
    "fig = go.Figure(data=[go.Pie(labels=['Watching', 'On Hold', 'Completed', 'Dropped', 'Plan to Watch'],\n",
    "                             values=[watching, on_hold, completed, dropped, plan_to_watch],\n",
    "                             hole=0.3,\n",
    "                             hoverinfo='label+percent',\n",
    "                             textinfo='value',\n",
    "                             textfont_size=15)])\n",
    "\n",
    "# Customize the layout\n",
    "fig.update_layout(title=f\"Watching Behavior of {username_input}\",\n",
    "                  showlegend=True,\n",
    "                  paper_bgcolor='rgba(0,0,0,0)',\n",
    "                  plot_bgcolor='rgba(0,0,0,0)')\n",
    "\n",
    "# Show the plot\n",
    "fig.show()"
   ]
  },
  {
   "cell_type": "code",
   "execution_count": null,
   "id": "e93f3886",
   "metadata": {
    "execution": {
     "iopub.execute_input": "2023-07-29T07:44:26.795255Z",
     "iopub.status.busy": "2023-07-29T07:44:26.794858Z",
     "iopub.status.idle": "2023-07-29T07:44:26.910296Z",
     "shell.execute_reply": "2023-07-29T07:44:26.909046Z"
    },
    "papermill": {
     "duration": 7.31179,
     "end_time": "2023-07-29T07:44:26.913676",
     "exception": false,
     "start_time": "2023-07-29T07:44:19.601886",
     "status": "completed"
    },
    "tags": []
   },
   "outputs": [],
   "source": [
    "# Create a correlation matrix\n",
    "correlation_matrix = df_user[['Days Watched', 'Mean Score', 'Total Entries', 'Rewatched', 'Episodes Watched']].corr()\n",
    "\n",
    "# Create a heatmap of the correlation matrix\n",
    "fig = ff.create_annotated_heatmap(z=correlation_matrix.values,\n",
    "                                  x=list(correlation_matrix.columns),\n",
    "                                  y=list(correlation_matrix.index),\n",
    "                                  colorscale='Viridis')\n",
    "fig.update_layout(title='Correlation Matrix')\n",
    "fig.show()"
   ]
  },
  {
   "cell_type": "markdown",
   "id": "c8139809",
   "metadata": {
    "papermill": {
     "duration": 7.193186,
     "end_time": "2023-07-29T07:44:41.086466",
     "exception": false,
     "start_time": "2023-07-29T07:44:33.893280",
     "status": "completed"
    },
    "tags": []
   },
   "source": [
    "### For User Score Dataset"
   ]
  },
  {
   "cell_type": "code",
   "execution_count": null,
   "id": "dea92c30",
   "metadata": {
    "execution": {
     "iopub.execute_input": "2023-07-29T07:44:55.288698Z",
     "iopub.status.busy": "2023-07-29T07:44:55.288231Z",
     "iopub.status.idle": "2023-07-29T07:45:04.143410Z",
     "shell.execute_reply": "2023-07-29T07:45:04.141939Z"
    },
    "papermill": {
     "duration": 16.082856,
     "end_time": "2023-07-29T07:45:04.146447",
     "exception": false,
     "start_time": "2023-07-29T07:44:48.063591",
     "status": "completed"
    },
    "tags": []
   },
   "outputs": [],
   "source": [
    "# Animes that was watched by most users in the df_score dataset\n",
    "\n",
    "# Get the count of users who watched each anime title\n",
    "anime_watch_count = df_score.groupby('Anime Title')['user_id'].nunique().reset_index()\n",
    "anime_watch_count = anime_watch_count.rename(columns={'user_id': 'User Count'})\n",
    "\n",
    "# Sort the dataframe in descending order by the number of users\n",
    "anime_watch_count = anime_watch_count.sort_values(by='User Count', ascending=False)\n",
    "\n",
    "# Select the top 10 anime titles with the highest number of users\n",
    "top_n = 10\n",
    "top_anime_watch_count = anime_watch_count.head(top_n)\n",
    "\n",
    "# Define a colorful color palette\n",
    "color_palette = px.colors.qualitative.Plotly\n",
    "\n",
    "# Create the bar chart with colorful bars\n",
    "fig = px.bar(top_anime_watch_count, x='User Count', y='Anime Title', orientation='h',\n",
    "             title=f'Top {top_n} Anime Titles Watched by Most Users',\n",
    "             labels={'User Count': 'Number of Users', 'Anime Title': 'Anime Title'},\n",
    "             color='User Count',\n",
    "             color_discrete_sequence=color_palette)\n",
    "\n",
    "# Customize the layout\n",
    "fig.update_layout(showlegend=False, paper_bgcolor='rgba(0,0,0,0)', plot_bgcolor='rgba(0,0,0,0)',\n",
    "                  margin=dict(l=50, r=20, t=100, b=50))\n",
    "\n",
    "# Show the plot\n",
    "fig.show()"
   ]
  },
  {
   "cell_type": "markdown",
   "id": "b2d22a6a",
   "metadata": {
    "papermill": {
     "duration": 7.279359,
     "end_time": "2023-07-29T07:45:18.455368",
     "exception": false,
     "start_time": "2023-07-29T07:45:11.176009",
     "status": "completed"
    },
    "tags": []
   },
   "source": [
    "## That concludes our journey through the world of anime data analysis. I hope you found this notebook insightful and enjoyable. Happy analyzing and keep exploring the fascinating world of anime!\n",
    "## Let's move on with our model training in notebook2!"
   ]
  },
  {
   "cell_type": "code",
   "execution_count": null,
   "id": "6d289acd",
   "metadata": {
    "papermill": {
     "duration": 7.259348,
     "end_time": "2023-07-29T07:45:32.693439",
     "exception": false,
     "start_time": "2023-07-29T07:45:25.434091",
     "status": "completed"
    },
    "tags": []
   },
   "outputs": [],
   "source": []
  }
 ],
 "metadata": {
  "kernelspec": {
   "display_name": "Python 3",
   "language": "python",
   "name": "python3"
  },
  "language_info": {
   "codemirror_mode": {
    "name": "ipython",
    "version": 3
   },
   "file_extension": ".py",
   "mimetype": "text/x-python",
   "name": "python",
   "nbconvert_exporter": "python",
   "pygments_lexer": "ipython3",
   "version": "3.11.9"
  },
  "papermill": {
   "default_parameters": {},
   "duration": 679.427098,
   "end_time": "2023-07-29T07:45:41.577684",
   "environment_variables": {},
   "exception": null,
   "input_path": "__notebook__.ipynb",
   "output_path": "__notebook__.ipynb",
   "parameters": {},
   "start_time": "2023-07-29T07:34:22.150586",
   "version": "2.4.0"
  }
 },
 "nbformat": 4,
 "nbformat_minor": 5
}
